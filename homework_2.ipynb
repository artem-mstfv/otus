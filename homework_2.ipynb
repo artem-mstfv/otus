{
  "cells": [
    {
      "cell_type": "markdown",
      "metadata": {
        "id": "hCpExBveskGP"
      },
      "source": [
        "# <center> Homework 2 </center>"
      ]
    },
    {
      "cell_type": "code",
      "execution_count": 2,
      "metadata": {
        "id": "S68HHHJOskGW"
      },
      "outputs": [],
      "source": [
        "# autoreload позволяет нам подгружать изменения во внешнем коде\n",
        "# без необходимости перезагружать kernel у ноутбука\n",
        "%load_ext autoreload\n",
        "%autoreload 2"
      ]
    },
    {
      "cell_type": "markdown",
      "metadata": {
        "id": "iEGjyJFSskGX"
      },
      "source": [
        "## 1) Exceptions\n",
        "В модуле `exceptions` объявите следующие исключения:\n",
        "- LowFuelError\n",
        "- NotEnoughFuel\n",
        "- CargoOverload"
      ]
    },
    {
      "cell_type": "code",
      "source": [
        "import exceptions"
      ],
      "metadata": {
        "id": "gMdvaDuuUBQP"
      },
      "execution_count": null,
      "outputs": []
    },
    {
      "cell_type": "code",
      "source": [
        "class LowFuelError(Exception):\n",
        "    def __init__(self, message=\"Low fuel level\"):\n",
        "        self.message = message\n",
        "        super().__init__(self.message)\n",
        "\n",
        "class NotEnoughFuel(Exception):\n",
        "    def __init__(self, message=\"Not enough fuel\"):\n",
        "        self.message = message\n",
        "        super().__init__(self.message)\n",
        "\n",
        "class CargoOverload(Exception):\n",
        "    def __init__(self, message=\"Cargo weight exceeds the allowed limit\"):\n",
        "        self.message = message\n",
        "        super().__init__(self.message)"
      ],
      "metadata": {
        "id": "EQ18vNH5TunA"
      },
      "execution_count": 7,
      "outputs": []
    },
    {
      "cell_type": "markdown",
      "metadata": {
        "id": "NacD-R2kskGY"
      },
      "source": [
        "## 2) Vehicle\n",
        "\n",
        "<img src=\"https://cs.pikabu.ru/images/big_size_comm/2013-12_4/13874526438897.jpg\" width=300>\n",
        "\n",
        "Доработайте базовый класс `Vehicle`:\n",
        "- добавьте атрибуты `weight`, `started`, `fuel`, `fuel_consumption` со значениями по умолчанию\n",
        "- добавьте инициализатор для установки `weight`, `fuel`, `fuel_consumption`\n",
        "- добавьте метод `start`, который, если ещё не состояние `started`, проверяет, что топлива больше нуля,\n",
        "  и обновляет состояние `started`, иначе выкидывает исключение `exceptions.LowFuelError`\n",
        "- добавьте метод `move`, который проверяет,\n",
        "  что достаточно топлива для преодоления переданной дистанции,\n",
        "  и изменяет количество оставшегося топлива, иначе выкидывает исключение `exceptions.NotEnoughFuel`"
      ]
    },
    {
      "cell_type": "code",
      "execution_count": null,
      "metadata": {
        "id": "1bL7DpjdskGZ"
      },
      "outputs": [],
      "source": [
        "import exceptions\n",
        "\n",
        "class Vehicle:\n",
        "    def __init__(self, weight=1000, fuel=50, fuel_consumption=10):\n",
        "        self.weight = weight\n",
        "        self.started = False\n",
        "        self.fuel = fuel\n",
        "        self.fuel_consumption = fuel_consumption\n",
        "\n",
        "    def start(self):\n",
        "        if not self.started:\n",
        "            if self.fuel > 0:\n",
        "                self.started = True\n",
        "                print(\"Vehicle started.\")\n",
        "            else:\n",
        "                raise exceptions.LowFuelError(\"Low fuel level\")\n",
        "\n",
        "    def move(self, distance):\n",
        "        if self.started:\n",
        "            required_fuel = self.fuel_consumption * distance\n",
        "            if self.fuel >= required_fuel:\n",
        "                self.fuel -= required_fuel\n",
        "                print(f\"Vehicle moved {distance} miles.\")\n",
        "            else:\n",
        "                raise exceptions.NotEnoughFuel(\"Not enough fuel\")\n",
        "        else:\n",
        "            print(\"Vehicle is not started. Please start the vehicle first.\")"
      ]
    },
    {
      "cell_type": "markdown",
      "metadata": {
        "id": "jKtLd_8kskGZ"
      },
      "source": [
        "## 3) Engine\n",
        "\n",
        "<img src=\"https://upload.wikimedia.org/wikipedia/commons/6/6f/National_gas_engine_%28Rankin_Kennedy%2C_Modern_Engines%2C_Vol_II%29.jpg\" width=250>\n",
        "\n",
        "Создайте датакласс `Engine`, добавьте атрибуты `volume` и `pistons`"
      ]
    },
    {
      "cell_type": "code",
      "execution_count": null,
      "metadata": {
        "id": "4Hw4OjfKskGa"
      },
      "outputs": [],
      "source": [
        "from dataclasses import dataclass\n",
        "\n",
        "@dataclass\n",
        "class Engine:\n",
        "    volume: float\n",
        "    pistons: int"
      ]
    },
    {
      "cell_type": "markdown",
      "metadata": {
        "id": "nE3gfADxskGa"
      },
      "source": [
        "## 4) Car\n",
        "\n",
        "<img src=\"https://lh3.googleusercontent.com/proxy/RJqzSJqZFQrx7xOXimZQ4ooInGE6ViJdwz7JZZ_b__Eun-stRH2NMw47fM4je2hL1afRtmpKS9kZUVY0p2YcaZVtJ7bKRw3wWHRRa6zVUbeIb5TYLNkwx5A\" width=250>\n",
        "\n",
        "Cоздайте класс `Car`\n",
        "    - класс `Car` должен быть наследником `Vehicle`\n",
        "    - добавьте атрибут `engine` классу `Car`\n",
        "    - объявите метод `set_engine`, который принимает в себя экземпляр объекта `Engine` и устанавливает на текущий экземпляр `Car`"
      ]
    },
    {
      "cell_type": "code",
      "execution_count": null,
      "metadata": {
        "id": "WqQMnYy3skGa"
      },
      "outputs": [],
      "source": [
        "class Vehicle:\n",
        "    def __init__(self, weight=1000, fuel=50, fuel_consumption=10):\n",
        "        self.weight = weight\n",
        "        self.started = False\n",
        "        self.fuel = fuel\n",
        "        self.fuel_consumption = fuel_consumption\n",
        "\n",
        "    def start(self):\n",
        "        if not self.started:\n",
        "            if self.fuel > 0:\n",
        "                self.started = True\n",
        "                print(\"Vehicle started.\")\n",
        "            else:\n",
        "                raise exceptions.LowFuelError(\"Low fuel level\")\n",
        "\n",
        "    def move(self, distance):\n",
        "        if self.started:\n",
        "            required_fuel = self.fuel_consumption * distance\n",
        "            if self.fuel >= required_fuel:\n",
        "                self.fuel -= required_fuel\n",
        "                print(f\"Vehicle moved {distance} miles.\")\n",
        "            else:\n",
        "                raise exceptions.NotEnoughFuel(\"Not enough fuel\")\n",
        "        else:\n",
        "            print(\"Vehicle is not started. Please start the vehicle first.\")\n",
        "\n",
        "class Engine:\n",
        "    def __init__(self, volume, pistons):\n",
        "        self.volume = volume\n",
        "        self.pistons = pistons\n",
        "\n",
        "class Car(Vehicle):\n",
        "    def __init__(self, weight=1000, fuel=50, fuel_consumption=10):\n",
        "        super().__init__(weight, fuel, fuel_consumption)\n",
        "        self.engine = None\n",
        "\n",
        "    def set_engine(self, engine):\n",
        "        if isinstance(engine, Engine):\n",
        "            self.engine = engine\n",
        "        else:\n",
        "            raise ValueError(\"Invalid engine object. Please provide an instance of the Engine class.\")"
      ]
    },
    {
      "cell_type": "markdown",
      "metadata": {
        "id": "c5rIxveGskGa"
      },
      "source": [
        "## 5) Plane\n",
        "\n",
        "<img src=\"http://www.weirduniverse.net/images/2017/1934parachute02.jpg\" width=250>\n",
        "\n",
        "Создайте класс `Plane`\n",
        "- класс `Plane` должен быть наследником `Vehicle`\n",
        "- добавьте атрибуты `cargo` и `max_cargo` классу `Plane`\n",
        "- добавьте `max_cargo` в инициализатор (переопределите родительский)\n",
        "- объявите метод `load_cargo`, который принимает число, проверяет, что в сумме с текущим `cargo` не будет перегруза, и обновляет значение, в ином случае выкидывает исключение `exceptions.CargoOverload`\n",
        "- объявите метод `remove_all_cargo`, который обнуляет значение `cargo` и возвращает значение `cargo`, которое было до обнуления"
      ]
    },
    {
      "cell_type": "code",
      "execution_count": null,
      "metadata": {
        "id": "gU3eSSbcskGb"
      },
      "outputs": [],
      "source": [
        "class Vehicle:\n",
        "    def __init__(self, weight=1000, fuel=50, fuel_consumption=10):\n",
        "        self.weight = weight\n",
        "        self.started = False\n",
        "        self.fuel = fuel\n",
        "        self.fuel_consumption = fuel_consumption\n",
        "\n",
        "    def start(self):\n",
        "        if not self.started:\n",
        "            if self.fuel > 0:\n",
        "                self.started = True\n",
        "                print(\"Vehicle started.\")\n",
        "            else:\n",
        "                raise exceptions.LowFuelError(\"Low fuel level\")\n",
        "\n",
        "    def move(self, distance):\n",
        "        if self.started:\n",
        "            required_fuel = self.fuel_consumption * distance\n",
        "            if self.fuel >= required_fuel:\n",
        "                self.fuel -= required_fuel\n",
        "                print(f\"Vehicle moved {distance} miles.\")\n",
        "            else:\n",
        "                raise exceptions.NotEnoughFuel(\"Not enough fuel\")\n",
        "        else:\n",
        "            print(\"Vehicle is not started. Please start the vehicle first.\")\n",
        "\n",
        "class Plane(Vehicle):\n",
        "    def __init__(self, weight=1000, fuel=50, fuel_consumption=10, max_cargo=1000):\n",
        "        super().__init__(weight, fuel, fuel_consumption)\n",
        "        self.max_cargo = max_cargo\n",
        "        self.cargo = 0\n",
        "\n",
        "    def load_cargo(self, amount):\n",
        "        if self.cargo + amount <= self.max_cargo:\n",
        "            self.cargo += amount\n",
        "            print(f\"Cargo loaded: {amount} kg.\")\n",
        "        else:\n",
        "            raise exceptions.CargoOverload(\"Cargo weight exceeds the allowed limit.\")\n",
        "\n",
        "    def remove_all_cargo(self):\n",
        "        previous_cargo = self.cargo\n",
        "        self.cargo = 0\n",
        "        return previous_cargo"
      ]
    }
  ],
  "metadata": {
    "kernelspec": {
      "display_name": "Python 3",
      "language": "python",
      "name": "python3"
    },
    "language_info": {
      "codemirror_mode": {
        "name": "ipython",
        "version": 3
      },
      "file_extension": ".py",
      "mimetype": "text/x-python",
      "name": "python",
      "nbconvert_exporter": "python",
      "pygments_lexer": "ipython3",
      "version": "3.7.3"
    },
    "varInspector": {
      "cols": {
        "lenName": 16,
        "lenType": 16,
        "lenVar": 40
      },
      "kernels_config": {
        "python": {
          "delete_cmd_postfix": "",
          "delete_cmd_prefix": "del ",
          "library": "var_list.py",
          "varRefreshCmd": "print(var_dic_list())"
        },
        "r": {
          "delete_cmd_postfix": ") ",
          "delete_cmd_prefix": "rm(",
          "library": "var_list.r",
          "varRefreshCmd": "cat(var_dic_list()) "
        }
      },
      "types_to_exclude": [
        "module",
        "function",
        "builtin_function_or_method",
        "instance",
        "_Feature"
      ],
      "window_display": false
    },
    "colab": {
      "provenance": []
    }
  },
  "nbformat": 4,
  "nbformat_minor": 0
}