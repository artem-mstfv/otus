{
  "cells": [
    {
      "cell_type": "markdown",
      "metadata": {
        "id": "bNYWCyfqrOCr"
      },
      "source": [
        "# <center> Homework 1 </center>"
      ]
    },
    {
      "cell_type": "markdown",
      "metadata": {
        "id": "h6woWMz6rOCt"
      },
      "source": [
        "# 0. Где мы сейчас?\n",
        "<img src=\"https://upload.wikimedia.org/wikipedia/commons/thumb/3/38/Jupyter_logo.svg/1200px-Jupyter_logo.svg.png\" width=\"150\">\n",
        "\n",
        "[Jupyter Notebook](https://jupyter.org/) - интерактивная среда для запуска программного кода в браузере. Удобный инструмент для анализа данных, который используется многими специалистами по data science. Позволяет выполнять отдельные ячейки с кодом, а не всю программу сразу, что очень удобно при знакомстве с данными."
      ]
    },
    {
      "cell_type": "markdown",
      "metadata": {
        "id": "wISBuQNorOCu"
      },
      "source": [
        "# 1. Python\n",
        "> Python - это свободный интерпретируемый объектно-ориентированный расширяемый встраиваемый язык программирования очень высокого уровня\n",
        "\n",
        ">*(Г.Россум, Ф.Л.Дж.Дрейк, Д.С.Откидач \"Язык программирования Python\").*\n",
        "\n",
        "А если без цитат, то питон - это просто очень крутой язык, созданный в 1991 году [Великодушным пожизненным диктатором](https://ru.wikipedia.org/wiki/%D0%92%D0%B5%D0%BB%D0%B8%D0%BA%D0%BE%D0%B4%D1%83%D1%88%D0%BD%D1%8B%D0%B9_%D0%BF%D0%BE%D0%B6%D0%B8%D0%B7%D0%BD%D0%B5%D0%BD%D0%BD%D1%8B%D0%B9_%D0%B4%D0%B8%D0%BA%D1%82%D0%B0%D1%82%D0%BE%D1%80) Гвидо ван Россумом и названный в честь любимого им шоу [Monty Python's Flying Circus](https://en.wikipedia.org/wiki/Monty_Python%27s_Flying_Circus)\n",
        "\n",
        "<img src=\"https://advancelocal-adapter-image-uploads.s3.amazonaws.com/image.oregonlive.com/home/olive-media/width2048/img/tv/photo/2018/10/10/montycastjpg-7ef393e2355a42aa.jpg\" width=\"300\">"
      ]
    },
    {
      "cell_type": "markdown",
      "metadata": {
        "id": "WE6feGytrOCv"
      },
      "source": [
        "# 2. Anaconda\n",
        "\n",
        "<img src=\"https://cdn-images-1.medium.com/max/1600/0*MVkCW8_Bmj-nuAnI.png\" width=\"300\">\n",
        "\n",
        "[Сборка Anaconda](https://www.anaconda.com/products/individual) включает очень много полезных библиотек для анализа данных.\n",
        "\n",
        "Среди наиболее популярных библиотек:\n",
        " - <a href=\"http://numpy.org\">Numpy</a> - это один из основных пакетов для математических вычислений. Он содержит средства для работы с многомерными массивами и высокоуровневыми математическими функциями\n",
        " - <a href=\"https://www.scipy.org/\">SciPy</a> - научные вычисления. Методы оптимизации, интегрирования, модули обработки сигналов и изображений, статистика, линейная алгебра, сплайны, кластеризация и многое другое\n",
        " -  <a href=\"http://pandas.pydata.org/\">Pandas</a> - основная библиотека для обработки и анализа данных. Предназначена для данных разной природы - матричных, панельных данных, временных рядов. Претендует на звание самого мощного и гибкого средства для анализа данных с открытым исходным кодом\n",
        " - <a href=\"http://scikit-learn.org/stable/\">Scikit-learn</a> - реализация очень многих методов машинного обучения с отличной документацией.\n",
        " - <a href=\"http://http://matplotlib.org/\">matplotlib</a> - хорошая библиотека для визуализации данных"
      ]
    },
    {
      "cell_type": "markdown",
      "metadata": {
        "id": "XyRJHmNBrOCw"
      },
      "source": [
        "# 3. Задачки"
      ]
    },
    {
      "cell_type": "markdown",
      "metadata": {
        "id": "9170oeeXrOCw"
      },
      "source": [
        "## Задача 1\n",
        "$N$ хоббитов делят $K$ кусков эльфийского хлеба поровну, не делящийся нацело остаток остается в корзинке у Сэма. Напишите функцию, которая принимает на вход параметры $N$ и $K$ и возвращает два числа: $x$ - cколько кусков эльфиского хлеба достанется каждому хоббиту, и $y$ - сколько кусков остаётся в корзинке."
      ]
    },
    {
      "cell_type": "code",
      "execution_count": null,
      "metadata": {
        "id": "RglOtFtWrOCx"
      },
      "outputs": [],
      "source": [
        "def share_bread(N, K):\n",
        "    x = K // N\n",
        "    y = K % N\n",
        "    return x, y\n",
        "\n",
        "# если в функции всё верно, то после выполнения этой строчки, не должно выскакивать ошибок\n",
        "assert share_bread(N=3, K=14) == (4, 2)"
      ]
    },
    {
      "cell_type": "markdown",
      "metadata": {
        "id": "KEFlUOE1rOCx"
      },
      "source": [
        "## Задача 2\n",
        "\n",
        "В копях Мории хоббиты нашли стену, на которой высечены разные натуральные числа. Согласно древним сказаниям, это даты сражений. Хоббиты знают, что сражения происходили только по високосным годам. Помогите хоббитам определить, является ли год с данным числом датой великого сражения. Если это так, то верните строку \"YOU SHALL PASS\", иначе верните \"YOU SHALL NOT PASS\". Напомним, что в соответствии с хоббитским календарем, год является високосным, если его номер кратен 4, но не кратен 100, а также если он кратен 400."
      ]
    },
    {
      "cell_type": "code",
      "execution_count": null,
      "metadata": {
        "id": "xAfsc0ykrOCy"
      },
      "outputs": [],
      "source": [
        "def leap_year(year):\n",
        "    return 'YOU SHALL PASS' if year % 4 == 0 and year % 100 != 0  or year % 400 == 0 else 'YOU SHALL NOT PASS'\n",
        "\n",
        "assert leap_year(5) == 'YOU SHALL NOT PASS'"
      ]
    },
    {
      "cell_type": "markdown",
      "metadata": {
        "id": "OFxKNcVgrOCy"
      },
      "source": [
        "## Задача 3\n",
        "<img src=\"http://i0.kym-cdn.com/photos/images/original/001/187/255/5e9.gif\" width=300>\n",
        "Для могущественного магического ритуала Гендальфу необходимо быстро подсчитывать площадь своего амулета, который умеет менять размеры. Известно, что амулет имеет форму треугольника и Гендальф знает длину каждой из сторон. Напишите функцию, которая считает площадь амулета по трем сторонам.  \n",
        "\n",
        "Подсказка: используйте формулу Герона\n",
        "$$ S = \\sqrt{p(p-a)(p-b)(p-c)} $$\n",
        "$$ p = \\frac{a + b + c}{2}$$\n"
      ]
    },
    {
      "cell_type": "code",
      "execution_count": null,
      "metadata": {
        "id": "dzc4SSvErOCz"
      },
      "outputs": [],
      "source": [
        "import math\n",
        "\n",
        "def amulet_area(a, b, c):\n",
        "    p = (a + b + c) / 2\n",
        "    S = math.sqrt(p * ((p - a) * (p - b) * (p - c)))\n",
        "    return S\n",
        "\n",
        "assert amulet_area(3, 4, 5) == 6"
      ]
    },
    {
      "cell_type": "markdown",
      "metadata": {
        "id": "r-7vPM7SrOCz"
      },
      "source": [
        "## Задача 4\n",
        "\n",
        "Хоббиты собираются пешком идти до Мордора и им нужно подсчитать расстояние, которое им предстоит пройти. Хоббиты смогли вспомнить сразу несколько метрик расстояния: евклидово, манхэттена и косинусное, так что ваша задача - напистаь функцию под каждую из них. Важное условие - используйте только базовые функции numpy для решения.\n",
        "\n",
        "\n",
        "* Евклидово расстояние\n",
        "$$ d(a, b) = \\sqrt{\\sum_i (a_i - b_i)^2} $$\n",
        "* Расстояние Манхэттена\n",
        "$$ d(a, b) = \\sum_i |a_i - b_i| $$\n",
        "* Косинусное расстояние\n",
        "$$ d(a, b) = 1 - \\frac{a^\\top b}{||a||_2\\cdot||b||_2}$$"
      ]
    },
    {
      "cell_type": "code",
      "execution_count": 2,
      "metadata": {
        "id": "8Nso0VbhrOC0"
      },
      "outputs": [],
      "source": [
        "import numpy as np\n",
        "from numpy import dot\n",
        "from numpy.linalg import norm\n",
        "\n",
        "def cal_euclidean(a, b):\n",
        "    distance = np.linalg.norm(a - b)\n",
        "    return distance\n",
        "\n",
        "def cal_manhattan(a, b):\n",
        "    distance = np.sum(np.abs(a-b))\n",
        "    return distance\n",
        "\n",
        "def cal_cosine(a, b):\n",
        "    distance = dot(a, b)/(norm(a)*norm(b))\n",
        "    return distance"
      ]
    },
    {
      "cell_type": "code",
      "execution_count": null,
      "metadata": {
        "id": "T6vImdhirOC0",
        "colab": {
          "base_uri": "https://localhost:8080/"
        },
        "outputId": "1a2891d2-9d86-4b96-996e-3f228e0c43c4"
      },
      "outputs": [
        {
          "output_type": "stream",
          "name": "stdout",
          "text": [
            "15.811388300841896\n",
            "38\n",
            "0.609566152979778\n"
          ]
        }
      ],
      "source": [
        "a = np.random.randint(-10, 10, size=10)\n",
        "b = np.random.randint(-10, 10, size=10)\n",
        "print(cal_euclidean(a, b))\n",
        "print(cal_manhattan(a, b))\n",
        "print(cal_cosine(a, b))"
      ]
    },
    {
      "cell_type": "markdown",
      "metadata": {
        "id": "20HHlGw6rOC1"
      },
      "source": [
        "## Задача 5\n",
        "\n",
        "Ну и напоследок, еще немного практики numpy, без которой не обходится ни один хоббит.\n"
      ]
    },
    {
      "cell_type": "markdown",
      "metadata": {
        "id": "fVIcyg7orOC1"
      },
      "source": [
        "Создайте случайный array (`np.random.rand()`) длинной 100. Преобразуйте его так, чтобы\n",
        "* Максимальный элемент(ы) был равен 1\n",
        "* Минимальный элемент(ы) был равен 0\n",
        "* Остальные элементы в итнтервале от 0 до 1 остаются прежними"
      ]
    },
    {
      "cell_type": "code",
      "execution_count": null,
      "metadata": {
        "id": "TZiSR52HrOC2",
        "colab": {
          "base_uri": "https://localhost:8080/"
        },
        "outputId": "8ec345d0-5cc3-404b-8003-eddf873643af"
      },
      "outputs": [
        {
          "output_type": "stream",
          "name": "stdout",
          "text": [
            "0.9959904729340435 0.0008507092073457567\n",
            "[1.85899228e-03 2.03593508e-01 2.27913924e-01 4.43701269e-01\n",
            " 6.74369777e-01 5.62411615e-01 9.21662794e-02 8.06588200e-01\n",
            " 2.10716275e-01 2.45736215e-02 8.42089351e-01 3.86965445e-01\n",
            " 3.18950263e-01 1.02616504e-01 5.55078339e-01 7.18712710e-01\n",
            " 8.50709207e-04 2.37073305e-01 1.93349559e-01 1.63021514e-01\n",
            " 5.06959818e-01 2.64445868e-01 6.91815443e-01 5.97808346e-01\n",
            " 4.57608831e-01 1.68152354e-01 6.78793783e-01 9.30165900e-01\n",
            " 3.28249450e-01 7.38352476e-01 2.00432477e-01 3.91796313e-01\n",
            " 4.39444682e-01 4.80127136e-01 4.33852313e-01 3.05284043e-01\n",
            " 2.50295687e-01 4.76429112e-01 2.97088258e-01 1.68690657e-01\n",
            " 4.56212047e-01 8.71573898e-01 2.66154875e-01 3.89614915e-01\n",
            " 5.63675568e-01 4.09672656e-01 7.66987480e-01 1.15668209e-01\n",
            " 2.52452458e-01 2.38377533e-01 2.31693530e-01 9.10277054e-02\n",
            " 4.43321599e-01 7.86732804e-02 3.74147834e-01 7.43543736e-01\n",
            " 3.79602570e-01 3.73957439e-01 7.09547107e-01 7.66970489e-01\n",
            " 9.41320113e-03 5.26760546e-01 5.08356327e-01 2.31715821e-01\n",
            " 7.91599248e-01 1.35207511e-01 6.85482857e-01 4.16746797e-01\n",
            " 7.12838621e-01 6.40932884e-01 8.13919405e-01 4.13520846e-01\n",
            " 1.44629515e-01 5.23266784e-01 7.67280351e-01 5.23903881e-01\n",
            " 3.64710236e-01 4.10866370e-01 7.71540939e-02 5.48120957e-01\n",
            " 3.50922075e-01 6.67057150e-01 9.48667142e-01 3.31903846e-01\n",
            " 3.36449533e-01 4.68257221e-01 9.10056695e-02 6.41324079e-01\n",
            " 6.26595909e-01 4.51091823e-01 1.69052799e-02 5.25484136e-01\n",
            " 7.87056666e-01 3.02855860e-01 9.38687307e-01 9.95990473e-01\n",
            " 5.88955826e-01 9.62612978e-01 4.70230374e-01 8.16162682e-01]\n"
          ]
        }
      ],
      "source": [
        "# my_array = np.random.rand(100)\n",
        "# print(np.max(my_array), np.min(my_array))\n",
        "# print(my_array)\n",
        "\n",
        "my_array = np.random.rand(100)\n",
        "max_ind = np.argmax(my_array)\n",
        "min_ind = np.argmin(my_array)\n",
        "my_array = (my_array - my_array[min_ind]) / (my_array[max_ind] - my_array[min_ind])\n",
        "print(np.max(my_array), np.min(my_array))\n",
        "print(len(my_array))"
      ]
    },
    {
      "cell_type": "markdown",
      "metadata": {
        "id": "aYIH203jrOC2"
      },
      "source": [
        "Создайте array размером $5 \\times 6$ с целыми числами в интервале [0,50]. Напечатайте колонку, которая содержит максимальный элемент полученной матрицы"
      ]
    },
    {
      "cell_type": "code",
      "execution_count": null,
      "metadata": {
        "id": "oHb0DgG4rOC2",
        "colab": {
          "base_uri": "https://localhost:8080/"
        },
        "outputId": "fa7b2dfb-4866-4bfe-823a-211fa071c863"
      },
      "outputs": [
        {
          "output_type": "stream",
          "name": "stdout",
          "text": [
            "Shape:  (5, 6)\n",
            "Array\n",
            "[[21 14 25 28 49  7]\n",
            " [46  6 45 11 17 18]\n",
            " [36  9 34  5 26 34]\n",
            " [22 13  1 41  3 27]\n",
            " [ 8 44 25 47 36 14]]\n",
            "49\n"
          ]
        }
      ],
      "source": [
        "my_array = np.random.randint(0, 51, (5, 6))\n",
        "selected_column = np.max(my_array)\n",
        "print('Shape: ',my_array.shape)\n",
        "print('Array')\n",
        "print(my_array)\n",
        "print(selected_column)"
      ]
    },
    {
      "cell_type": "code",
      "source": [
        "my_array = np.random.randint(0, 51, (5, 6))\n",
        "selected_values = np.argmax(np.max(my_array, axis = 0))\n",
        "max_column = my_array[:, selected_values]\n",
        "print('Shape: ',my_array.shape)\n",
        "print('Array')\n",
        "print(my_array)\n",
        "print('\\n')\n",
        "print('Max column: ', max_column)"
      ],
      "metadata": {
        "colab": {
          "base_uri": "https://localhost:8080/"
        },
        "id": "7EZUnO68cSVR",
        "outputId": "c3a22dcf-514f-48cb-a18a-b67ff466e8d8"
      },
      "execution_count": 31,
      "outputs": [
        {
          "output_type": "stream",
          "name": "stdout",
          "text": [
            "Shape:  (5, 6)\n",
            "Array\n",
            "[[26 22 13  9 43 22]\n",
            " [ 2  6  1 32  3 16]\n",
            " [15 19  5 29  5 47]\n",
            " [30 35 31 44 37  2]\n",
            " [22 43 42 43 43  8]]\n",
            "\n",
            "\n",
            "Max column:  [22 16 47  2  8]\n"
          ]
        }
      ]
    },
    {
      "cell_type": "markdown",
      "metadata": {
        "id": "nzMNAlfvrOC3"
      },
      "source": [
        "Напишите функцию, которая принимает на вохд матрицу (array) X и возвращает все её уникальные строки в виде новой матрицы."
      ]
    },
    {
      "cell_type": "code",
      "execution_count": null,
      "metadata": {
        "id": "WgFUswE5rOC3"
      },
      "outputs": [],
      "source": [
        "def get_unique_rows(X):\n",
        "    X_unique = np.unique(X, axis = 0)\n",
        "    return X_unique"
      ]
    },
    {
      "cell_type": "code",
      "execution_count": null,
      "metadata": {
        "id": "qvLrUcdorOC3",
        "colab": {
          "base_uri": "https://localhost:8080/"
        },
        "outputId": "01b4aefb-4454-408c-8edd-f5a310014084"
      },
      "outputs": [
        {
          "output_type": "stream",
          "name": "stdout",
          "text": [
            "[[5 4 4]\n",
            " [4 4 4]\n",
            " [4 4 4]\n",
            " [4 4 4]\n",
            " [4 4 5]\n",
            " [4 5 4]\n",
            " [4 5 5]\n",
            " [5 4 5]\n",
            " [4 5 4]\n",
            " [4 5 4]]\n"
          ]
        }
      ],
      "source": [
        "X = np.random.randint(4, 6, size=(10,3))\n",
        "print(X)"
      ]
    },
    {
      "cell_type": "code",
      "execution_count": null,
      "metadata": {
        "id": "qeLVv-MUrOC4",
        "colab": {
          "base_uri": "https://localhost:8080/"
        },
        "outputId": "860033f9-5ae1-4ee3-9096-101da5e313a8"
      },
      "outputs": [
        {
          "output_type": "execute_result",
          "data": {
            "text/plain": [
              "array([[4, 4, 4],\n",
              "       [4, 4, 5],\n",
              "       [4, 5, 4],\n",
              "       [4, 5, 5],\n",
              "       [5, 4, 4],\n",
              "       [5, 4, 5]])"
            ]
          },
          "metadata": {},
          "execution_count": 33
        }
      ],
      "source": [
        "get_unique_rows(X)"
      ]
    },
    {
      "cell_type": "code",
      "source": [],
      "metadata": {
        "id": "eIAGTXPA-EiQ"
      },
      "execution_count": null,
      "outputs": []
    }
  ],
  "metadata": {
    "kernelspec": {
      "display_name": "Python 3",
      "language": "python",
      "name": "python3"
    },
    "language_info": {
      "codemirror_mode": {
        "name": "ipython",
        "version": 3
      },
      "file_extension": ".py",
      "mimetype": "text/x-python",
      "name": "python",
      "nbconvert_exporter": "python",
      "pygments_lexer": "ipython3",
      "version": "3.7.6"
    },
    "varInspector": {
      "cols": {
        "lenName": 16,
        "lenType": 16,
        "lenVar": 40
      },
      "kernels_config": {
        "python": {
          "delete_cmd_postfix": "",
          "delete_cmd_prefix": "del ",
          "library": "var_list.py",
          "varRefreshCmd": "print(var_dic_list())"
        },
        "r": {
          "delete_cmd_postfix": ") ",
          "delete_cmd_prefix": "rm(",
          "library": "var_list.r",
          "varRefreshCmd": "cat(var_dic_list()) "
        }
      },
      "types_to_exclude": [
        "module",
        "function",
        "builtin_function_or_method",
        "instance",
        "_Feature"
      ],
      "window_display": false
    },
    "colab": {
      "provenance": []
    }
  },
  "nbformat": 4,
  "nbformat_minor": 0
}